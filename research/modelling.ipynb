{
 "cells": [
  {
   "cell_type": "code",
   "execution_count": 7,
   "metadata": {},
   "outputs": [],
   "source": [
    "from glob import glob\n",
    "import os\n",
    "import seaborn as sns\n",
    "import matplotlib.pyplot as plt"
   ]
  },
  {
   "cell_type": "code",
   "execution_count": 3,
   "metadata": {},
   "outputs": [
    {
     "name": "stdout",
     "output_type": "stream",
     "text": [
      "../artifacts/data_ingestion/CT-KIDNEY-DATASET-Normal-Cyst-Tumor-Stone/data-Splitted/test ['Cyst', 'Normal', 'Stone', 'Tumor']\n",
      "../artifacts/data_ingestion/CT-KIDNEY-DATASET-Normal-Cyst-Tumor-Stone/data-Splitted/train ['Cyst', 'Normal', 'Stone', 'Tumor']\n",
      "../artifacts/data_ingestion/CT-KIDNEY-DATASET-Normal-Cyst-Tumor-Stone/data-Splitted/val ['Cyst', 'Normal', 'Stone', 'Tumor']\n"
     ]
    }
   ],
   "source": [
    "imgPath = \"../artifacts/data_ingestion/CT-KIDNEY-DATASET-Normal-Cyst-Tumor-Stone/data-Splitted\"\n",
    "testPath = imgPath + \"/test\"\n",
    "test_dir = os.listdir(testPath)\n",
    "trainPath = imgPath + \"/train\"\n",
    "train_dir = os.listdir(trainPath)\n",
    "valPath = imgPath + \"/val\"\n",
    "val_dir = os.listdir(valPath)\n",
    "print(testPath, test_dir)\n",
    "print(trainPath, train_dir)\n",
    "print(valPath, val_dir)"
   ]
  },
  {
   "cell_type": "code",
   "execution_count": 5,
   "metadata": {},
   "outputs": [],
   "source": [
    "def imageCount(fPath):\n",
    "    imgList = [len(glob(fPath + \"/\" + ele + \"/*.jpg\")) for ele in os.listdir(fPath)]\n",
    "    imgSum = sum(imgList)\n",
    "    return imgSum, imgList"
   ]
  },
  {
   "cell_type": "code",
   "execution_count": 6,
   "metadata": {},
   "outputs": [
    {
     "name": "stdout",
     "output_type": "stream",
     "text": [
      "Total number of images in TRAIN directory : 7466\n",
      "Total number of images in VALIDATION directory : 2487\n",
      "Total number of images in TEST directory : 2493\n"
     ]
    }
   ],
   "source": [
    "trainCount, trainList = imageCount(trainPath)\n",
    "print(\"Total number of images in {} directory : {}\".format(\"TRAIN\",trainCount))\n",
    "valCount, valList = imageCount(valPath)\n",
    "print(\"Total number of images in {} directory : {}\".format(\"VALIDATION\",valCount))\n",
    "testCount, testList = imageCount(testPath)\n",
    "print(\"Total number of images in {} directory : {}\".format(\"TEST\",testCount))"
   ]
  },
  {
   "cell_type": "markdown",
   "metadata": {},
   "source": [
    "## Model building"
   ]
  },
  {
   "cell_type": "code",
   "execution_count": null,
   "metadata": {},
   "outputs": [],
   "source": []
  }
 ],
 "metadata": {
  "kernelspec": {
   "display_name": "kdcnn",
   "language": "python",
   "name": "python3"
  },
  "language_info": {
   "codemirror_mode": {
    "name": "ipython",
    "version": 3
   },
   "file_extension": ".py",
   "mimetype": "text/x-python",
   "name": "python",
   "nbconvert_exporter": "python",
   "pygments_lexer": "ipython3",
   "version": "3.11.1"
  }
 },
 "nbformat": 4,
 "nbformat_minor": 2
}
