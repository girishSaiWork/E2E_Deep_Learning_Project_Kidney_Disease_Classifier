{
 "cells": [
  {
   "cell_type": "code",
   "execution_count": 6,
   "metadata": {},
   "outputs": [
    {
     "data": {
      "text/plain": [
       "'e:\\\\Study Space\\\\Python Workspace\\\\AI and DS\\\\Projects\\\\E2E\\\\E2E_Deep_Learning_Project_Kidney_Disease_Classifier\\\\research'"
      ]
     },
     "execution_count": 6,
     "metadata": {},
     "output_type": "execute_result"
    }
   ],
   "source": [
    "import os\n",
    "%pwd"
   ]
  },
  {
   "cell_type": "code",
   "execution_count": 26,
   "metadata": {},
   "outputs": [],
   "source": [
    "os.chdir(\"../\")"
   ]
  },
  {
   "cell_type": "code",
   "execution_count": 27,
   "metadata": {},
   "outputs": [
    {
     "data": {
      "text/plain": [
       "'e:\\\\Study Space\\\\Python Workspace\\\\AI and DS\\\\Projects\\\\E2E\\\\E2E_Deep_Learning_Project_Kidney_Disease_Classifier'"
      ]
     },
     "execution_count": 27,
     "metadata": {},
     "output_type": "execute_result"
    }
   ],
   "source": [
    "%pwd"
   ]
  },
  {
   "cell_type": "code",
   "execution_count": 28,
   "metadata": {},
   "outputs": [],
   "source": [
    "from dataclasses import dataclass\n",
    "from pathlib import Path\n",
    "\n",
    "\n",
    "@dataclass(frozen=True)\n",
    "class DataIngestionConfig:\n",
    "    root_dir: Path\n",
    "    source_URL: str\n",
    "    local_data_file: Path\n",
    "    unzip_dir: Path"
   ]
  },
  {
   "cell_type": "code",
   "execution_count": 29,
   "metadata": {},
   "outputs": [],
   "source": [
    "from kdcnnClassifier.constants import *\n",
    "from kdcnnClassifier.utils.common import read_yaml, create_directories"
   ]
  },
  {
   "cell_type": "code",
   "execution_count": 31,
   "metadata": {},
   "outputs": [
    {
     "ename": "NameError",
     "evalue": "name 'CONFIG_FILE_PATH' is not defined",
     "output_type": "error",
     "traceback": [
      "\u001b[1;31m---------------------------------------------------------------------------\u001b[0m",
      "\u001b[1;31mNameError\u001b[0m                                 Traceback (most recent call last)",
      "\u001b[1;32me:\\Study Space\\Python Workspace\\AI and DS\\Projects\\E2E\\E2E_Deep_Learning_Project_Kidney_Disease_Classifier\\research\\01_data_ingestion.ipynb Cell 6\u001b[0m line \u001b[0;36m1\n\u001b[1;32m----> <a href='vscode-notebook-cell:/e%3A/Study%20Space/Python%20Workspace/AI%20and%20DS/Projects/E2E/E2E_Deep_Learning_Project_Kidney_Disease_Classifier/research/01_data_ingestion.ipynb#X10sZmlsZQ%3D%3D?line=0'>1</a>\u001b[0m \u001b[39mprint\u001b[39m(CONFIG_FILE_PATH)\n",
      "\u001b[1;31mNameError\u001b[0m: name 'CONFIG_FILE_PATH' is not defined"
     ]
    }
   ],
   "source": [
    "print(CONFIG_FILE_PATH)"
   ]
  },
  {
   "cell_type": "code",
   "execution_count": 30,
   "metadata": {},
   "outputs": [
    {
     "ename": "NameError",
     "evalue": "name 'CONFIG_FILE_PATH' is not defined",
     "output_type": "error",
     "traceback": [
      "\u001b[1;31m---------------------------------------------------------------------------\u001b[0m",
      "\u001b[1;31mNameError\u001b[0m                                 Traceback (most recent call last)",
      "\u001b[1;32me:\\Study Space\\Python Workspace\\AI and DS\\Projects\\E2E\\E2E_Deep_Learning_Project_Kidney_Disease_Classifier\\research\\01_data_ingestion.ipynb Cell 6\u001b[0m line \u001b[0;36m1\n\u001b[1;32m----> <a href='vscode-notebook-cell:/e%3A/Study%20Space/Python%20Workspace/AI%20and%20DS/Projects/E2E/E2E_Deep_Learning_Project_Kidney_Disease_Classifier/research/01_data_ingestion.ipynb#W2sZmlsZQ%3D%3D?line=0'>1</a>\u001b[0m \u001b[39mclass\u001b[39;49;00m \u001b[39mConfigurationManager\u001b[39;49;00m:\n\u001b[0;32m      <a href='vscode-notebook-cell:/e%3A/Study%20Space/Python%20Workspace/AI%20and%20DS/Projects/E2E/E2E_Deep_Learning_Project_Kidney_Disease_Classifier/research/01_data_ingestion.ipynb#W2sZmlsZQ%3D%3D?line=1'>2</a>\u001b[0m     \u001b[39mdef\u001b[39;49;00m \u001b[39m__init__\u001b[39;49m(\n\u001b[0;32m      <a href='vscode-notebook-cell:/e%3A/Study%20Space/Python%20Workspace/AI%20and%20DS/Projects/E2E/E2E_Deep_Learning_Project_Kidney_Disease_Classifier/research/01_data_ingestion.ipynb#W2sZmlsZQ%3D%3D?line=2'>3</a>\u001b[0m         \u001b[39mself\u001b[39;49m,\n\u001b[0;32m      <a href='vscode-notebook-cell:/e%3A/Study%20Space/Python%20Workspace/AI%20and%20DS/Projects/E2E/E2E_Deep_Learning_Project_Kidney_Disease_Classifier/research/01_data_ingestion.ipynb#W2sZmlsZQ%3D%3D?line=3'>4</a>\u001b[0m         config_filepath \u001b[39m=\u001b[39;49m CONFIG_FILE_PATH,\n\u001b[0;32m      <a href='vscode-notebook-cell:/e%3A/Study%20Space/Python%20Workspace/AI%20and%20DS/Projects/E2E/E2E_Deep_Learning_Project_Kidney_Disease_Classifier/research/01_data_ingestion.ipynb#W2sZmlsZQ%3D%3D?line=4'>5</a>\u001b[0m         params_filepath \u001b[39m=\u001b[39;49m PARAMS_FILE_PATH):\n\u001b[0;32m      <a href='vscode-notebook-cell:/e%3A/Study%20Space/Python%20Workspace/AI%20and%20DS/Projects/E2E/E2E_Deep_Learning_Project_Kidney_Disease_Classifier/research/01_data_ingestion.ipynb#W2sZmlsZQ%3D%3D?line=6'>7</a>\u001b[0m         \u001b[39mself\u001b[39;49m\u001b[39m.\u001b[39;49mconfig \u001b[39m=\u001b[39;49m read_yaml(config_filepath)\n",
      "\u001b[1;32me:\\Study Space\\Python Workspace\\AI and DS\\Projects\\E2E\\E2E_Deep_Learning_Project_Kidney_Disease_Classifier\\research\\01_data_ingestion.ipynb Cell 6\u001b[0m line \u001b[0;36m4\n\u001b[0;32m      <a href='vscode-notebook-cell:/e%3A/Study%20Space/Python%20Workspace/AI%20and%20DS/Projects/E2E/E2E_Deep_Learning_Project_Kidney_Disease_Classifier/research/01_data_ingestion.ipynb#W2sZmlsZQ%3D%3D?line=0'>1</a>\u001b[0m \u001b[39mclass\u001b[39;00m \u001b[39mConfigurationManager\u001b[39;00m:\n\u001b[0;32m      <a href='vscode-notebook-cell:/e%3A/Study%20Space/Python%20Workspace/AI%20and%20DS/Projects/E2E/E2E_Deep_Learning_Project_Kidney_Disease_Classifier/research/01_data_ingestion.ipynb#W2sZmlsZQ%3D%3D?line=1'>2</a>\u001b[0m     \u001b[39mdef\u001b[39;00m \u001b[39m__init__\u001b[39m(\n\u001b[0;32m      <a href='vscode-notebook-cell:/e%3A/Study%20Space/Python%20Workspace/AI%20and%20DS/Projects/E2E/E2E_Deep_Learning_Project_Kidney_Disease_Classifier/research/01_data_ingestion.ipynb#W2sZmlsZQ%3D%3D?line=2'>3</a>\u001b[0m         \u001b[39mself\u001b[39m,\n\u001b[1;32m----> <a href='vscode-notebook-cell:/e%3A/Study%20Space/Python%20Workspace/AI%20and%20DS/Projects/E2E/E2E_Deep_Learning_Project_Kidney_Disease_Classifier/research/01_data_ingestion.ipynb#W2sZmlsZQ%3D%3D?line=3'>4</a>\u001b[0m         config_filepath \u001b[39m=\u001b[39m CONFIG_FILE_PATH,\n\u001b[0;32m      <a href='vscode-notebook-cell:/e%3A/Study%20Space/Python%20Workspace/AI%20and%20DS/Projects/E2E/E2E_Deep_Learning_Project_Kidney_Disease_Classifier/research/01_data_ingestion.ipynb#W2sZmlsZQ%3D%3D?line=4'>5</a>\u001b[0m         params_filepath \u001b[39m=\u001b[39m PARAMS_FILE_PATH):\n\u001b[0;32m      <a href='vscode-notebook-cell:/e%3A/Study%20Space/Python%20Workspace/AI%20and%20DS/Projects/E2E/E2E_Deep_Learning_Project_Kidney_Disease_Classifier/research/01_data_ingestion.ipynb#W2sZmlsZQ%3D%3D?line=6'>7</a>\u001b[0m         \u001b[39mself\u001b[39m\u001b[39m.\u001b[39mconfig \u001b[39m=\u001b[39m read_yaml(config_filepath)\n\u001b[0;32m      <a href='vscode-notebook-cell:/e%3A/Study%20Space/Python%20Workspace/AI%20and%20DS/Projects/E2E/E2E_Deep_Learning_Project_Kidney_Disease_Classifier/research/01_data_ingestion.ipynb#W2sZmlsZQ%3D%3D?line=7'>8</a>\u001b[0m         \u001b[39mself\u001b[39m\u001b[39m.\u001b[39mparams \u001b[39m=\u001b[39m read_yaml(params_filepath)\n",
      "\u001b[1;31mNameError\u001b[0m: name 'CONFIG_FILE_PATH' is not defined"
     ]
    }
   ],
   "source": [
    "class ConfigurationManager:\n",
    "    def __init__(\n",
    "        self,\n",
    "        config_filepath = CONFIG_FILE_PATH,\n",
    "        params_filepath = PARAMS_FILE_PATH):\n",
    "\n",
    "        self.config = read_yaml(config_filepath)\n",
    "        self.params = read_yaml(params_filepath)\n",
    "\n",
    "        create_directories([self.config.artifacts_root])\n",
    "\n",
    "\n",
    "    \n",
    "    def get_data_ingestion_config(self) -> DataIngestionConfig:\n",
    "        config = self.config.data_ingestion\n",
    "\n",
    "        create_directories([config.root_dir])\n",
    "\n",
    "        data_ingestion_config = DataIngestionConfig(\n",
    "            root_dir=config.root_dir,\n",
    "            source_URL=config.source_URL,\n",
    "            local_data_file=config.local_data_file,\n",
    "            unzip_dir=config.unzip_dir \n",
    "        )\n",
    "\n",
    "        return data_ingestion_config"
   ]
  },
  {
   "cell_type": "code",
   "execution_count": null,
   "metadata": {},
   "outputs": [],
   "source": []
  }
 ],
 "metadata": {
  "kernelspec": {
   "display_name": "kdcnn",
   "language": "python",
   "name": "python3"
  },
  "language_info": {
   "codemirror_mode": {
    "name": "ipython",
    "version": 3
   },
   "file_extension": ".py",
   "mimetype": "text/x-python",
   "name": "python",
   "nbconvert_exporter": "python",
   "pygments_lexer": "ipython3",
   "version": "3.11.1"
  }
 },
 "nbformat": 4,
 "nbformat_minor": 2
}
